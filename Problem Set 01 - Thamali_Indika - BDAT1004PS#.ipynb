{
 "cells": [
  {
   "cell_type": "markdown",
   "metadata": {},
   "source": [
    "## Question 01\n",
    "### What data type is each of the following?\n"
   ]
  },
  {
   "cell_type": "markdown",
   "metadata": {},
   "source": [
    "\n",
    "|**Value|Data Type**|\n",
    "|-------|-----------|\n",
    "|5|Integer(int)|\n",
    "|5.0|Float|\n",
    "|5 > 1|Boolean(bool)|\n",
    "|'5'|String(str)|\n",
    "|5 * 2|Integer|\n",
    "|'5' * 2|String|\n",
    "|'5' + '2'|String|\n",
    "|5 / 2|Float|\n",
    "|5 // 2|Integer|\n",
    "|[5, 2, 1]|List|\n",
    "|5 in [1, 4, 6]|Boolean|\n",
    "|math.pi|Constant|\n"
   ]
  },
  {
   "cell_type": "markdown",
   "metadata": {},
   "source": [
    "## Question 02\n",
    "### Write (and evaluate) Python expressions that answer these questions:"
   ]
  },
  {
   "cell_type": "code",
   "execution_count": 1,
   "metadata": {},
   "outputs": [
    {
     "data": {
      "text/plain": [
       "34"
      ]
     },
     "execution_count": 1,
     "metadata": {},
     "output_type": "execute_result"
    }
   ],
   "source": [
    "# a) How many letters are there in 'Supercalifragilisticexpialidocious'?\n",
    "\n",
    "lst = (\"Supercalifragilisticexpialidocious\")\n",
    "len(lst)"
   ]
  },
  {
   "cell_type": "code",
   "execution_count": 2,
   "metadata": {},
   "outputs": [
    {
     "data": {
      "text/plain": [
       "True"
      ]
     },
     "execution_count": 2,
     "metadata": {},
     "output_type": "execute_result"
    }
   ],
   "source": [
    "# b) Does 'Supercalifragilisticexpialidocious' contain 'ice' as a substring? \n",
    "\n",
    "x = 'Supercalifragilisticexpialidocious'\n",
    "'ice' in x"
   ]
  },
  {
   "cell_type": "code",
   "execution_count": 3,
   "metadata": {},
   "outputs": [
    {
     "data": {
      "text/plain": [
       "'Supercalifragilisticexpialidocious'"
      ]
     },
     "execution_count": 3,
     "metadata": {},
     "output_type": "execute_result"
    }
   ],
   "source": [
    "# c) Which of the following words is the longest:Supercalifragilisticexpialidocious, Honorificabilitudinitatibus, or Bababadalgharaghtakamminarronnkonn?\n",
    "\n",
    "lst = [\"Supercalifragilisticexpialidocious\", \"Honorificabilitudinitatibus\",\"Bababadalgharaghtakamminarronnkonn\"]\n",
    "max(lst)\n",
    "\n"
   ]
  },
  {
   "cell_type": "code",
   "execution_count": 4,
   "metadata": {},
   "outputs": [
    {
     "name": "stdout",
     "output_type": "stream",
     "text": [
      "['Bartok', 'Bellini', 'Berlioz', 'Bernstein', 'Borodin', 'Brian', 'Buxtehude']\n"
     ]
    }
   ],
   "source": [
    "# d) Which composer comes first in the dictionary: 'Berlioz', 'Borodin', 'Brian','Bartok', 'Bellini', 'Buxtehude', 'Bernstein'. Which one comes last?\n",
    "\n",
    "#Ascending order\n",
    "people =['Berlioz', 'Borodin', 'Brian', 'Bartok', 'Bellini', 'Buxtehude', 'Bernstein']\n",
    "people.sort()\n",
    "print(people)\n",
    "\n",
    "# code from: https://stackoverflow.com/questions/36139/how-to-sort-a-list-of-strings?noredirect=1&lq=1\n"
   ]
  },
  {
   "cell_type": "code",
   "execution_count": 5,
   "metadata": {},
   "outputs": [
    {
     "name": "stdout",
     "output_type": "stream",
     "text": [
      "['Buxtehude', 'Brian', 'Borodin', 'Bernstein', 'Berlioz', 'Bellini', 'Bartok']\n"
     ]
    }
   ],
   "source": [
    "# descending order\n",
    "people =['Berlioz', 'Borodin', 'Brian', 'Bartok', 'Bellini', 'Buxtehude', 'Bernstein']\n",
    "x = sorted(people, reverse=True)\n",
    "print(x)\n",
    "\n",
    "#code from: https://www.w3schools.com/python/ref_func_sorted.asp"
   ]
  },
  {
   "cell_type": "markdown",
   "metadata": {},
   "source": [
    "## Question 03\n"
   ]
  },
  {
   "cell_type": "code",
   "execution_count": 2,
   "metadata": {},
   "outputs": [],
   "source": [
    "# a) "
   ]
  },
  {
   "cell_type": "code",
   "execution_count": 3,
   "metadata": {},
   "outputs": [],
   "source": [
    "# b)"
   ]
  },
  {
   "cell_type": "markdown",
   "metadata": {},
   "source": [
    "## Question 04\n",
    "### Convert words in PigLatin"
   ]
  },
  {
   "cell_type": "code",
   "execution_count": 1,
   "metadata": {},
   "outputs": [
    {
     "name": "stdout",
     "output_type": "stream",
     "text": [
      "Enter a word and press ENTER: christmas\n",
      "ristmaschay\n"
     ]
    }
   ],
   "source": [
    "# 1 word starts with a consonant\n",
    "\n",
    "def main():\n",
    "        lst = ['sh', 'gl', 'ch', 'ph', 'tr', 'br', 'fr', 'bl', 'gr', 'st', 'sl', 'cl', 'pl', 'fl']\n",
    "        sentence = input('Enter a word and press ENTER: ')\n",
    "        sentence = sentence.split()\n",
    "        for k in range(len(sentence)):\n",
    "                i = sentence[k]\n",
    "                if i[0] in ['a', 'e', 'i', 'o', 'u']:\n",
    "                        sentence[k] = i+'ay'\n",
    "                elif t(i) in lst:\n",
    "                        sentence[k] = i[2:]+i[:2]+'ay'\n",
    "                elif i.isalpha() == False:\n",
    "                        sentence[k] = i\n",
    "                else:\n",
    "                        sentence[k] = i[1:]+i[0]+''\n",
    "        return ' '.join(sentence)\n",
    "\n",
    "def t(str):\n",
    "        return str[0]+str[1]\n",
    "\n",
    "if __name__ == \"__main__\":\n",
    "        x = main()\n",
    "        print(x)\n"
   ]
  },
  {
   "cell_type": "code",
   "execution_count": 2,
   "metadata": {},
   "outputs": [
    {
     "name": "stdout",
     "output_type": "stream",
     "text": [
      "Enter a word and press ENTER: ink\n",
      "inkay\n"
     ]
    }
   ],
   "source": [
    "\n",
    "# 2. Word starts with a vowel\n",
    "# 1 word starts with a consonant\n",
    "\n",
    "def main():\n",
    "        lst = ['sh', 'gl', 'ch', 'ph', 'tr', 'br', 'fr', 'bl', 'gr', 'st', 'sl', 'cl', 'pl', 'fl']\n",
    "        sentence = input('Enter a word and press ENTER: ')\n",
    "        sentence = sentence.split()\n",
    "        for k in range(len(sentence)):\n",
    "                i = sentence[k]\n",
    "                if i[0] in ['a', 'e', 'i', 'o', 'u']:\n",
    "                        sentence[k] = i+'ay'\n",
    "                elif t(i) in lst:\n",
    "                        sentence[k] = i[2:]+i[:2]+'ay'\n",
    "                elif i.isalpha() == False:\n",
    "                        sentence[k] = i\n",
    "                else:\n",
    "                        sentence[k] = i[1:]+i[0]+''\n",
    "        return ' '.join(sentence)\n",
    "\n",
    "def t(str):\n",
    "        return str[0]+str[1]\n",
    "\n",
    "if __name__ == \"__main__\":\n",
    "        x = main()\n",
    "        print(x)\n",
    "        \n",
    "# code source: https://stackoverflow.com/questions/23177250/converting-a-sentence-to-piglatin-in-python\n"
   ]
  },
  {
   "cell_type": "markdown",
   "metadata": {},
   "source": [
    "# # Question 05\n",
    "### Count how many patients there are in each bloodtype"
   ]
  },
  {
   "cell_type": "code",
   "execution_count": 3,
   "metadata": {},
   "outputs": [
    {
     "name": "stdout",
     "output_type": "stream",
     "text": [
      "AB AB B O A A AB O AB A O O A A A O O O AB O A A A A A AB AB A AB O AB O A O O O AB O AB AB AB A A O \n",
      "\n"
     ]
    }
   ],
   "source": [
    "# loading the text file\n",
    "f = open (\"bloodtype.txt\",\"r\")\n",
    "print(f.read())"
   ]
  },
  {
   "cell_type": "code",
   "execution_count": 4,
   "metadata": {},
   "outputs": [
    {
     "name": "stdout",
     "output_type": "stream",
     "text": [
      "Enter the file name: bloodtype.txt\n",
      "{'AB': 1, 'B': 1, 'O': 2, 'A': 1}\n"
     ]
    }
   ],
   "source": [
    "#bloodtype count\n",
    "\n",
    "fname = input('Enter the file name: ')\n",
    "try:\n",
    "    fhand = open(fname)\n",
    "except:\n",
    "    print('File cannot be opened:', fname)\n",
    "    exit()\n",
    "counts = dict()\n",
    "for line in fhand:\n",
    "    words = line.split()\n",
    "    for word in words:\n",
    "        if word not in counts:\n",
    "            counts[word] = 1\n",
    "else:\n",
    "            counts[word] += 1\n",
    "print(counts)"
   ]
  },
  {
   "cell_type": "markdown",
   "metadata": {},
   "source": [
    "## Question 06\n",
    "### Convert the curencies"
   ]
  },
  {
   "cell_type": "code",
   "execution_count": null,
   "metadata": {},
   "outputs": [],
   "source": []
  },
  {
   "cell_type": "markdown",
   "metadata": {},
   "source": [
    "## Question 07\n",
    "### Identify the erros"
   ]
  },
  {
   "cell_type": "markdown",
   "metadata": {},
   "source": [
    "|Scenario|Error|\n",
    "|--------|-----|\n",
    "|6 + ‘a’|SyntaxError|\n",
    "|Referring to the 12th item of a list that has only 10\n",
    "items|IndexError|\n",
    "|math.sqrt(-1.0)|NameError|\n",
    "|undeclared variable,|NameError|\n",
    "|Trying to open a file that does not exist|FileNotFoundError|"
   ]
  },
  {
   "cell_type": "markdown",
   "metadata": {},
   "source": [
    "## Question 08"
   ]
  },
  {
   "cell_type": "markdown",
   "metadata": {},
   "source": [
    "## Question 09"
   ]
  },
  {
   "cell_type": "markdown",
   "metadata": {},
   "source": [
    "## Question 10"
   ]
  },
  {
   "cell_type": "code",
   "execution_count": 7,
   "metadata": {},
   "outputs": [
    {
     "name": "stdout",
     "output_type": "stream",
     "text": [
      "Enter the length of first side and press ENTER: 2\n",
      "Enter the length of second side and press ENTER: 2\n",
      "Enter the length of third side and press ENTER: 2\n",
      "The area of the triangle is 1.73\n"
     ]
    }
   ],
   "source": [
    "a = float(input('Enter the length of first side and press ENTER: '))  \n",
    "b = float(input('Enter the length of second side and press ENTER: '))  \n",
    "c = float(input('Enter the length of third side and press ENTER: '))  \n",
    "  \n",
    "\n",
    "s = (a + b + c) / 2    \n",
    "area = (s*(s-a)*(s-b)*(s-c)) ** 0.5  \n",
    "print('The area of the triangle is %0.2f' %area)  "
   ]
  },
  {
   "cell_type": "code",
   "execution_count": null,
   "metadata": {},
   "outputs": [],
   "source": []
  }
 ],
 "metadata": {
  "kernelspec": {
   "display_name": "Python 3",
   "language": "python",
   "name": "python3"
  },
  "language_info": {
   "codemirror_mode": {
    "name": "ipython",
    "version": 3
   },
   "file_extension": ".py",
   "mimetype": "text/x-python",
   "name": "python",
   "nbconvert_exporter": "python",
   "pygments_lexer": "ipython3",
   "version": "3.8.3"
  }
 },
 "nbformat": 4,
 "nbformat_minor": 4
}
